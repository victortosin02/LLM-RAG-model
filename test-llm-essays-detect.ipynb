{
 "cells": [
  {
   "cell_type": "code",
   "execution_count": 1,
   "id": "e1db542f",
   "metadata": {
    "_cell_guid": "b1076dfc-b9ad-4769-8c92-a6c4dae69d19",
    "_uuid": "8f2839f25d086af736a60e9eeb907d3b93b6e0e5",
    "execution": {
     "iopub.execute_input": "2023-11-06T09:41:28.735768Z",
     "iopub.status.busy": "2023-11-06T09:41:28.734952Z",
     "iopub.status.idle": "2023-11-06T09:41:29.154462Z",
     "shell.execute_reply": "2023-11-06T09:41:29.152624Z"
    },
    "papermill": {
     "duration": 0.427394,
     "end_time": "2023-11-06T09:41:29.157167",
     "exception": false,
     "start_time": "2023-11-06T09:41:28.729773",
     "status": "completed"
    },
    "tags": []
   },
   "outputs": [
    {
     "name": "stdout",
     "output_type": "stream",
     "text": [
      "/kaggle/input/llm-detect-ai-generated-text/sample_submission.csv\n",
      "/kaggle/input/llm-detect-ai-generated-text/train_prompts.csv\n",
      "/kaggle/input/llm-detect-ai-generated-text/test_essays.csv\n",
      "/kaggle/input/llm-detect-ai-generated-text/train_essays.csv\n",
      "/kaggle/input/chatglm2/pytorch/6b/1/pytorch_model-00001-of-00007.bin\n",
      "/kaggle/input/chatglm2/pytorch/6b/1/quantization.py\n",
      "/kaggle/input/chatglm2/pytorch/6b/1/config.json\n",
      "/kaggle/input/chatglm2/pytorch/6b/1/pytorch_model-00007-of-00007.bin\n",
      "/kaggle/input/chatglm2/pytorch/6b/1/pytorch_model-00006-of-00007.bin\n",
      "/kaggle/input/chatglm2/pytorch/6b/1/tokenization_chatglm.py\n",
      "/kaggle/input/chatglm2/pytorch/6b/1/MODEL_LICENSE\n",
      "/kaggle/input/chatglm2/pytorch/6b/1/tokenizer_config.json\n",
      "/kaggle/input/chatglm2/pytorch/6b/1/pytorch_model-00004-of-00007.bin\n",
      "/kaggle/input/chatglm2/pytorch/6b/1/pytorch_model.bin.index.json\n",
      "/kaggle/input/chatglm2/pytorch/6b/1/configuration_chatglm.py\n",
      "/kaggle/input/chatglm2/pytorch/6b/1/pytorch_model-00003-of-00007.bin\n",
      "/kaggle/input/chatglm2/pytorch/6b/1/modeling_chatglm.py\n",
      "/kaggle/input/chatglm2/pytorch/6b/1/.gitattributes\n",
      "/kaggle/input/chatglm2/pytorch/6b/1/tokenizer.model\n",
      "/kaggle/input/chatglm2/pytorch/6b/1/pytorch_model-00002-of-00007.bin\n",
      "/kaggle/input/chatglm2/pytorch/6b/1/pytorch_model-00005-of-00007.bin\n"
     ]
    }
   ],
   "source": [
    "# This Python 3 environment comes with many helpful analytics libraries installed\n",
    "# It is defined by the kaggle/python Docker image: https://github.com/kaggle/docker-python\n",
    "# For example, here's several helpful packages to load\n",
    "\n",
    "import numpy as np # linear algebra\n",
    "import pandas as pd # data processing, CSV file I/O (e.g. pd.read_csv)\n",
    "\n",
    "# Input data files are available in the read-only \"../input/\" directory\n",
    "# For example, running this (by clicking run or pressing Shift+Enter) will list all files under the input directory\n",
    "\n",
    "import os\n",
    "for dirname, _, filenames in os.walk('/kaggle/input'):\n",
    "    for filename in filenames:\n",
    "        print(os.path.join(dirname, filename))\n",
    "\n",
    "# You can write up to 20GB to the current directory (/kaggle/working/) that gets preserved as output when you create a version using \"Save & Run All\" \n",
    "# You can also write temporary files to /kaggle/temp/, but they won't be saved outside of the current session"
   ]
  },
  {
   "cell_type": "code",
   "execution_count": 2,
   "id": "4fc581e7",
   "metadata": {
    "execution": {
     "iopub.execute_input": "2023-11-06T09:41:29.165823Z",
     "iopub.status.busy": "2023-11-06T09:41:29.165338Z",
     "iopub.status.idle": "2023-11-06T09:41:29.290325Z",
     "shell.execute_reply": "2023-11-06T09:41:29.289356Z"
    },
    "papermill": {
     "duration": 0.131304,
     "end_time": "2023-11-06T09:41:29.293066",
     "exception": false,
     "start_time": "2023-11-06T09:41:29.161762",
     "status": "completed"
    },
    "tags": []
   },
   "outputs": [],
   "source": [
    "df_train_prompts = pd.read_csv(\"/kaggle/input/llm-detect-ai-generated-text/train_prompts.csv\")\n",
    "df_test_essays = pd.read_csv(\"/kaggle/input/llm-detect-ai-generated-text/train_prompts.csv\")\n",
    "df_train_essays =pd.read_csv(\"/kaggle/input/llm-detect-ai-generated-text/train_essays.csv\") "
   ]
  },
  {
   "cell_type": "code",
   "execution_count": 3,
   "id": "72cf21a8",
   "metadata": {
    "execution": {
     "iopub.execute_input": "2023-11-06T09:41:29.300374Z",
     "iopub.status.busy": "2023-11-06T09:41:29.299324Z",
     "iopub.status.idle": "2023-11-06T09:41:29.332379Z",
     "shell.execute_reply": "2023-11-06T09:41:29.331078Z"
    },
    "papermill": {
     "duration": 0.038921,
     "end_time": "2023-11-06T09:41:29.334572",
     "exception": false,
     "start_time": "2023-11-06T09:41:29.295651",
     "status": "completed"
    },
    "tags": []
   },
   "outputs": [
    {
     "data": {
      "text/html": [
       "<div>\n",
       "<style scoped>\n",
       "    .dataframe tbody tr th:only-of-type {\n",
       "        vertical-align: middle;\n",
       "    }\n",
       "\n",
       "    .dataframe tbody tr th {\n",
       "        vertical-align: top;\n",
       "    }\n",
       "\n",
       "    .dataframe thead th {\n",
       "        text-align: right;\n",
       "    }\n",
       "</style>\n",
       "<table border=\"1\" class=\"dataframe\">\n",
       "  <thead>\n",
       "    <tr style=\"text-align: right;\">\n",
       "      <th></th>\n",
       "      <th>id</th>\n",
       "      <th>prompt_id</th>\n",
       "      <th>text</th>\n",
       "      <th>generated</th>\n",
       "    </tr>\n",
       "  </thead>\n",
       "  <tbody>\n",
       "    <tr>\n",
       "      <th>0</th>\n",
       "      <td>0059830c</td>\n",
       "      <td>0</td>\n",
       "      <td>Cars. Cars have been around since they became ...</td>\n",
       "      <td>0</td>\n",
       "    </tr>\n",
       "    <tr>\n",
       "      <th>1</th>\n",
       "      <td>005db917</td>\n",
       "      <td>0</td>\n",
       "      <td>Transportation is a large necessity in most co...</td>\n",
       "      <td>0</td>\n",
       "    </tr>\n",
       "    <tr>\n",
       "      <th>2</th>\n",
       "      <td>008f63e3</td>\n",
       "      <td>0</td>\n",
       "      <td>\"America's love affair with it's vehicles seem...</td>\n",
       "      <td>0</td>\n",
       "    </tr>\n",
       "    <tr>\n",
       "      <th>3</th>\n",
       "      <td>00940276</td>\n",
       "      <td>0</td>\n",
       "      <td>How often do you ride in a car? Do you drive a...</td>\n",
       "      <td>0</td>\n",
       "    </tr>\n",
       "    <tr>\n",
       "      <th>4</th>\n",
       "      <td>00c39458</td>\n",
       "      <td>0</td>\n",
       "      <td>Cars are a wonderful thing. They are perhaps o...</td>\n",
       "      <td>0</td>\n",
       "    </tr>\n",
       "    <tr>\n",
       "      <th>...</th>\n",
       "      <td>...</td>\n",
       "      <td>...</td>\n",
       "      <td>...</td>\n",
       "      <td>...</td>\n",
       "    </tr>\n",
       "    <tr>\n",
       "      <th>1373</th>\n",
       "      <td>fe6ff9a5</td>\n",
       "      <td>1</td>\n",
       "      <td>There has been a fuss about the Elector Colleg...</td>\n",
       "      <td>0</td>\n",
       "    </tr>\n",
       "    <tr>\n",
       "      <th>1374</th>\n",
       "      <td>ff669174</td>\n",
       "      <td>0</td>\n",
       "      <td>Limiting car usage has many advantages. Such a...</td>\n",
       "      <td>0</td>\n",
       "    </tr>\n",
       "    <tr>\n",
       "      <th>1375</th>\n",
       "      <td>ffa247e0</td>\n",
       "      <td>0</td>\n",
       "      <td>There's a new trend that has been developing f...</td>\n",
       "      <td>0</td>\n",
       "    </tr>\n",
       "    <tr>\n",
       "      <th>1376</th>\n",
       "      <td>ffc237e9</td>\n",
       "      <td>0</td>\n",
       "      <td>As we all know cars are a big part of our soci...</td>\n",
       "      <td>0</td>\n",
       "    </tr>\n",
       "    <tr>\n",
       "      <th>1377</th>\n",
       "      <td>ffe1ca0d</td>\n",
       "      <td>0</td>\n",
       "      <td>Cars have been around since the 1800's and hav...</td>\n",
       "      <td>0</td>\n",
       "    </tr>\n",
       "  </tbody>\n",
       "</table>\n",
       "<p>1378 rows × 4 columns</p>\n",
       "</div>"
      ],
      "text/plain": [
       "            id  prompt_id                                               text  \\\n",
       "0     0059830c          0  Cars. Cars have been around since they became ...   \n",
       "1     005db917          0  Transportation is a large necessity in most co...   \n",
       "2     008f63e3          0  \"America's love affair with it's vehicles seem...   \n",
       "3     00940276          0  How often do you ride in a car? Do you drive a...   \n",
       "4     00c39458          0  Cars are a wonderful thing. They are perhaps o...   \n",
       "...        ...        ...                                                ...   \n",
       "1373  fe6ff9a5          1  There has been a fuss about the Elector Colleg...   \n",
       "1374  ff669174          0  Limiting car usage has many advantages. Such a...   \n",
       "1375  ffa247e0          0  There's a new trend that has been developing f...   \n",
       "1376  ffc237e9          0  As we all know cars are a big part of our soci...   \n",
       "1377  ffe1ca0d          0  Cars have been around since the 1800's and hav...   \n",
       "\n",
       "      generated  \n",
       "0             0  \n",
       "1             0  \n",
       "2             0  \n",
       "3             0  \n",
       "4             0  \n",
       "...         ...  \n",
       "1373          0  \n",
       "1374          0  \n",
       "1375          0  \n",
       "1376          0  \n",
       "1377          0  \n",
       "\n",
       "[1378 rows x 4 columns]"
      ]
     },
     "execution_count": 3,
     "metadata": {},
     "output_type": "execute_result"
    }
   ],
   "source": [
    "df_train_essays"
   ]
  },
  {
   "cell_type": "code",
   "execution_count": null,
   "id": "722f205a",
   "metadata": {
    "papermill": {
     "duration": 0.002545,
     "end_time": "2023-11-06T09:41:29.340039",
     "exception": false,
     "start_time": "2023-11-06T09:41:29.337494",
     "status": "completed"
    },
    "tags": []
   },
   "outputs": [],
   "source": []
  }
 ],
 "metadata": {
  "kernelspec": {
   "display_name": "Python 3",
   "language": "python",
   "name": "python3"
  },
  "language_info": {
   "codemirror_mode": {
    "name": "ipython",
    "version": 3
   },
   "file_extension": ".py",
   "mimetype": "text/x-python",
   "name": "python",
   "nbconvert_exporter": "python",
   "pygments_lexer": "ipython3",
   "version": "3.10.12"
  },
  "papermill": {
   "default_parameters": {},
   "duration": 4.619318,
   "end_time": "2023-11-06T09:41:29.764390",
   "environment_variables": {},
   "exception": null,
   "input_path": "__notebook__.ipynb",
   "output_path": "__notebook__.ipynb",
   "parameters": {},
   "start_time": "2023-11-06T09:41:25.145072",
   "version": "2.4.0"
  }
 },
 "nbformat": 4,
 "nbformat_minor": 5
}
